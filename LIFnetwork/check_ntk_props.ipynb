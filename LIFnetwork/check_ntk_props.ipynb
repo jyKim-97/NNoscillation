{
 "cells": [
  {
   "cell_type": "code",
   "execution_count": 1,
   "metadata": {},
   "outputs": [],
   "source": [
    "import numpy as np\n",
    "import matplotlib.pyplot as plt\n",
    "import SimpleModels as nrn"
   ]
  },
  {
   "cell_type": "code",
   "execution_count": 48,
   "metadata": {},
   "outputs": [],
   "source": [
    "params_pn = {'tau':20, 'r':100, 'vth':-40, 'v0':-65, 'vahp':-80, 'vmax':30, 'ev':-65, 'tahp':10}\n",
    "params_pv = {'tau':5, 'r':100, 'vth':-50, 'v0':-65, 'vahp':-80, 'vmax':30, 'ev':-65, 'tahp':0}\n",
    "# set synapse type & parameter\n",
    "syn_pn2pn = {'gbar_syn':1e-3, 'tau_r':0.3, 'tau_d':6, 'es':0, 'd':1}\n",
    "syn_pn2pv = {'gbar_syn':1e-3, 'tau_r':0.3, 'tau_d':6, 'es':0, 'd':1}\n",
    "syn_pv2pn = {'gbar_syn':1e-3, 'tau_r':0.5, 'tau_d':6, 'es':-80, 'd':1}\n",
    "syn_pv2pv = {'gbar_syn':1e-3, 'tau_r':0.5, 'tau_d':6, 'es':-80, 'd':1}"
   ]
  },
  {
   "cell_type": "code",
   "execution_count": 49,
   "metadata": {},
   "outputs": [],
   "source": [
    "n_exc = 8\n",
    "n_inh = 2\n",
    "\n",
    "tmax = 300\n",
    "dt = 0.01\n",
    "nrn.set_times(tmax, dt)\n",
    "\n",
    "# create cell types\n",
    "n_cells = n_exc+n_inh\n",
    "cell_types = []\n",
    "for i in range(n_cells):\n",
    "    if i < n_exc:\n",
    "        cell_types.append(0)\n",
    "    else:\n",
    "        cell_types.append(1)\n",
    "# fully connected network\n",
    "cnt_map = np.ones([n_cells, n_cells], dtype=int) * (-1)\n",
    "syn_types = [[0, 1], [2, 3]]\n",
    "for i in range(n_cells):\n",
    "    for j in range(n_cells):\n",
    "        if i != j:\n",
    "            cnt_map[i][j] = syn_types[cell_types[i]][cell_types[j]]    \n",
    "\n",
    "params_ntk = nrn.get_params([params_pn, params_pv], [syn_pn2pn, syn_pn2pv, syn_pv2pn, syn_pv2pv], cell_types, cnt_map)\n",
    "for i in range(n_cells):\n",
    "    params_ntk['v0'][i] = np.random.normal(loc=-65, scale=10)\n",
    "\n",
    "# external current\n",
    "Iext = np.zeros(len(nrn._times[1:]))\n",
    "Iext[(nrn._times[1:]<=250)&(nrn._times[1:]>=50)] = 1"
   ]
  },
  {
   "cell_type": "code",
   "execution_count": 61,
   "metadata": {},
   "outputs": [
    {
     "name": "stderr",
     "output_type": "stream",
     "text": [
      "100%|███████████████████████████████████████████████████████████████████████████| 30000/30000 [00:03<00:00, 8212.82it/s]\n"
     ]
    }
   ],
   "source": [
    "ntk = nrn.CellNetwork(**params_ntk, Iext=0.2*Iext, target_id=[[i for i in range(n_cells)]], std=0.15)\n",
    "ntk.run()"
   ]
  },
  {
   "cell_type": "code",
   "execution_count": 62,
   "metadata": {},
   "outputs": [
    {
     "data": {
      "image/png": "[encoded data removed]",
      "text/plain": [
       "<Figure size 432x288 with 1 Axes>"
      ]
     },
     "metadata": {},
     "output_type": "display_data"
    }
   ],
   "source": [
    "itvs = []\n",
    "for i in range(n_cells):\n",
    "    t = nrn._times[ntk.vcells[:, i] == 30]\n",
    "    if i < n_exc:\n",
    "        itvs = np.concatenate((itvs, t[1:]-t[:-1]))\n",
    "#     print(itv)\n",
    "    plt.vlines(t, i-0.5, i+0.5, lw=1)\n",
    "    "
   ]
  },
  {
   "cell_type": "code",
   "execution_count": 63,
   "metadata": {},
   "outputs": [
    {
     "name": "stdout",
     "output_type": "stream",
     "text": [
      "96.535\n"
     ]
    }
   ],
   "source": [
    "print(np.average(itvs))"
   ]
  },
  {
   "cell_type": "code",
   "execution_count": null,
   "metadata": {},
   "outputs": [],
   "source": []
  }
 ],
 "metadata": {
  "kernelspec": {
   "display_name": "Python 3",
   "language": "python",
   "name": "python3"
  },
  "language_info": {
   "codemirror_mode": {
    "name": "ipython",
    "version": 3
   },
   "file_extension": ".py",
   "mimetype": "text/x-python",
   "name": "python",
   "nbconvert_exporter": "python",
   "pygments_lexer": "ipython3",
   "version": "3.6.10"
  }
 },
 "nbformat": 4,
 "nbformat_minor": 4
}
